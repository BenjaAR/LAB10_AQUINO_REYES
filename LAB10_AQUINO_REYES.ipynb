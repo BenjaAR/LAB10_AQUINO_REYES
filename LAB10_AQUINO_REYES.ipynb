{
  "nbformat": 4,
  "nbformat_minor": 0,
  "metadata": {
    "colab": {
      "provenance": [],
      "include_colab_link": true
    },
    "kernelspec": {
      "name": "python3",
      "display_name": "Python 3"
    },
    "language_info": {
      "name": "python"
    }
  },
  "cells": [
    {
      "cell_type": "markdown",
      "metadata": {
        "id": "view-in-github",
        "colab_type": "text"
      },
      "source": [
        "<a href=\"https://colab.research.google.com/github/BenjaAR/LAB10_AQUINO_REYES/blob/main/LAB10_AQUINO_REYES.ipynb\" target=\"_parent\"><img src=\"https://colab.research.google.com/assets/colab-badge.svg\" alt=\"Open In Colab\"/></a>"
      ]
    },
    {
      "cell_type": "markdown",
      "source": [
        "# SEMANA 10: ANÁLISIS DE CONGLOMERADOS\n",
        "\n",
        "## Aquino Reyes Benjy Alvaro\n",
        "\n",
        "### Indicaciones:\n",
        "- El trabajo en su totalidad debe ser hecho en un notebook de ‘Jupyter’.\n",
        "- Cree una cabecera que lleve por título el tema de la semana y debajo de él coloque un ‘Markdown’ con su nombre y apellido.\n",
        "- Ejecute su notebook, grábelo, descárguelo como HTML, conviértalo a PDF y suba ambos archivos en el apartado que el docente indique.\n"
      ],
      "metadata": {
        "id": "Mc1nAQP_sd70"
      }
    },
    {
      "cell_type": "code",
      "execution_count": null,
      "metadata": {
        "id": "Kw7iUr7HODkO"
      },
      "outputs": [],
      "source": [
        "import pandas as pd\n",
        "import numpy as np\n",
        "import matplotlib.pyplot as plt\n",
        "import seaborn as sns\n",
        "\n",
        "from sklearn.preprocessing import StandardScaler\n",
        "from sklearn.impute import SimpleImputer\n",
        "from sklearn.cluster import KMeans\n",
        "from sklearn.metrics import silhouette_score, adjusted_rand_score, normalized_mutual_info_score\n",
        "from sklearn.decomposition import PCA\n",
        "\n",
        "from scipy import stats\n"
      ]
    },
    {
      "cell_type": "markdown",
      "source": [
        "### 1. Preprocesamiento de la información\n",
        "\n",
        "Con base de la información de la base de datos ‘vehículos’ la cual contiene información sobre diferentes modelos con las características más importantes que los definen, haga lo siguiente:\n",
        "\n",
        "#### a. Preprocesamiento de los datos\n",
        "\n",
        "Realice el preprocesamiento de la información que incluya el análisis de datos faltantes, tratamiento de outliers a nivel univariado y multivariado, escalamiento de datos para las variables numéricas y dumización para las variables categóricas. Además, elimine las variables ‘fabricante’, ‘modelo’, ‘transmision’, ‘traccion’, ‘clase’, ‘combustible’ y ‘consumo’.\n"
      ],
      "metadata": {
        "id": "Ns47TaFJOUBF"
      }
    },
    {
      "cell_type": "code",
      "source": [
        "# Cargar el archivo CSV desde Google Drive\n",
        "from google.colab import drive\n",
        "drive.mount('/content/drive')"
      ],
      "metadata": {
        "colab": {
          "base_uri": "https://localhost:8080/"
        },
        "id": "_5U5EuN-m3NU",
        "outputId": "6fc4cd00-e577-4282-c747-06e98c9cf9c2"
      },
      "execution_count": null,
      "outputs": [
        {
          "output_type": "stream",
          "name": "stdout",
          "text": [
            "Mounted at /content/drive\n"
          ]
        }
      ]
    },
    {
      "cell_type": "code",
      "source": [
        "df = pd.read_csv('/content/drive/MyDrive/Tecsup/5° Ciclo - 2025 - I/Minería de Datos/SEM10/vehículos.csv')\n",
        "df.head()\n"
      ],
      "metadata": {
        "colab": {
          "base_uri": "https://localhost:8080/",
          "height": 469
        },
        "id": "FZXUC1pWOV7M",
        "outputId": "dfac37da-b736-45e6-dbe3-94a0c5374b00"
      },
      "execution_count": null,
      "outputs": [
        {
          "output_type": "execute_result",
          "data": {
            "text/plain": [
              "         fabricante               modelo  year  desplazamiento  cilindros  \\\n",
              "0        AM General    DJ Po Vehicle 2WD  1984             2.5        4.0   \n",
              "1        AM General     FJ8c Post Office  1984             4.2        6.0   \n",
              "2        AM General  Post Office DJ5 2WD  1985             2.5        4.0   \n",
              "3        AM General  Post Office DJ8 2WD  1985             4.2        6.0   \n",
              "4  ASC Incorporated                  GNX  1987             3.8        6.0   \n",
              "\n",
              "       transmision          traccion                        clase combustible  \\\n",
              "0  Automatic 3-spd     2-Wheel Drive  Special Purpose Vehicle 2WD     Regular   \n",
              "1  Automatic 3-spd     2-Wheel Drive  Special Purpose Vehicle 2WD     Regular   \n",
              "2  Automatic 3-spd  Rear-Wheel Drive  Special Purpose Vehicle 2WD     Regular   \n",
              "3  Automatic 3-spd  Rear-Wheel Drive  Special Purpose Vehicle 2WD     Regular   \n",
              "4  Automatic 4-spd  Rear-Wheel Drive                 Midsize Cars     Premium   \n",
              "\n",
              "   consumo         co2            clase_tipo traccion_tipo transmision_tipo  \\\n",
              "0       17  522.764706  Vehículos Especiales           dos       Automatica   \n",
              "1       13  683.615385  Vehículos Especiales           dos       Automatica   \n",
              "2       16  555.437500  Vehículos Especiales           dos       Automatica   \n",
              "3       13  683.615385  Vehículos Especiales           dos       Automatica   \n",
              "4       16  555.437500       Coches Medianos           dos       Automatica   \n",
              "\n",
              "  combustible_tipo tamano_motor_tipo consumo_tipo  co2_tipo  \\\n",
              "0           Normal           pequeño         alto      alto   \n",
              "1           Normal            grande     muy alto  muy alto   \n",
              "2           Normal           pequeño         alto      alto   \n",
              "3           Normal            grande     muy alto  muy alto   \n",
              "4          Premium            grande         alto      alto   \n",
              "\n",
              "   consumo_litros_milla  \n",
              "0              0.222671  \n",
              "1              0.291185  \n",
              "2              0.236588  \n",
              "3              0.291185  \n",
              "4              0.236588  "
            ],
            "text/html": [
              "\n",
              "  <div id=\"df-e19a5fa5-d7d7-4509-a100-8ee883307599\" class=\"colab-df-container\">\n",
              "    <div>\n",
              "<style scoped>\n",
              "    .dataframe tbody tr th:only-of-type {\n",
              "        vertical-align: middle;\n",
              "    }\n",
              "\n",
              "    .dataframe tbody tr th {\n",
              "        vertical-align: top;\n",
              "    }\n",
              "\n",
              "    .dataframe thead th {\n",
              "        text-align: right;\n",
              "    }\n",
              "</style>\n",
              "<table border=\"1\" class=\"dataframe\">\n",
              "  <thead>\n",
              "    <tr style=\"text-align: right;\">\n",
              "      <th></th>\n",
              "      <th>fabricante</th>\n",
              "      <th>modelo</th>\n",
              "      <th>year</th>\n",
              "      <th>desplazamiento</th>\n",
              "      <th>cilindros</th>\n",
              "      <th>transmision</th>\n",
              "      <th>traccion</th>\n",
              "      <th>clase</th>\n",
              "      <th>combustible</th>\n",
              "      <th>consumo</th>\n",
              "      <th>co2</th>\n",
              "      <th>clase_tipo</th>\n",
              "      <th>traccion_tipo</th>\n",
              "      <th>transmision_tipo</th>\n",
              "      <th>combustible_tipo</th>\n",
              "      <th>tamano_motor_tipo</th>\n",
              "      <th>consumo_tipo</th>\n",
              "      <th>co2_tipo</th>\n",
              "      <th>consumo_litros_milla</th>\n",
              "    </tr>\n",
              "  </thead>\n",
              "  <tbody>\n",
              "    <tr>\n",
              "      <th>0</th>\n",
              "      <td>AM General</td>\n",
              "      <td>DJ Po Vehicle 2WD</td>\n",
              "      <td>1984</td>\n",
              "      <td>2.5</td>\n",
              "      <td>4.0</td>\n",
              "      <td>Automatic 3-spd</td>\n",
              "      <td>2-Wheel Drive</td>\n",
              "      <td>Special Purpose Vehicle 2WD</td>\n",
              "      <td>Regular</td>\n",
              "      <td>17</td>\n",
              "      <td>522.764706</td>\n",
              "      <td>Vehículos Especiales</td>\n",
              "      <td>dos</td>\n",
              "      <td>Automatica</td>\n",
              "      <td>Normal</td>\n",
              "      <td>pequeño</td>\n",
              "      <td>alto</td>\n",
              "      <td>alto</td>\n",
              "      <td>0.222671</td>\n",
              "    </tr>\n",
              "    <tr>\n",
              "      <th>1</th>\n",
              "      <td>AM General</td>\n",
              "      <td>FJ8c Post Office</td>\n",
              "      <td>1984</td>\n",
              "      <td>4.2</td>\n",
              "      <td>6.0</td>\n",
              "      <td>Automatic 3-spd</td>\n",
              "      <td>2-Wheel Drive</td>\n",
              "      <td>Special Purpose Vehicle 2WD</td>\n",
              "      <td>Regular</td>\n",
              "      <td>13</td>\n",
              "      <td>683.615385</td>\n",
              "      <td>Vehículos Especiales</td>\n",
              "      <td>dos</td>\n",
              "      <td>Automatica</td>\n",
              "      <td>Normal</td>\n",
              "      <td>grande</td>\n",
              "      <td>muy alto</td>\n",
              "      <td>muy alto</td>\n",
              "      <td>0.291185</td>\n",
              "    </tr>\n",
              "    <tr>\n",
              "      <th>2</th>\n",
              "      <td>AM General</td>\n",
              "      <td>Post Office DJ5 2WD</td>\n",
              "      <td>1985</td>\n",
              "      <td>2.5</td>\n",
              "      <td>4.0</td>\n",
              "      <td>Automatic 3-spd</td>\n",
              "      <td>Rear-Wheel Drive</td>\n",
              "      <td>Special Purpose Vehicle 2WD</td>\n",
              "      <td>Regular</td>\n",
              "      <td>16</td>\n",
              "      <td>555.437500</td>\n",
              "      <td>Vehículos Especiales</td>\n",
              "      <td>dos</td>\n",
              "      <td>Automatica</td>\n",
              "      <td>Normal</td>\n",
              "      <td>pequeño</td>\n",
              "      <td>alto</td>\n",
              "      <td>alto</td>\n",
              "      <td>0.236588</td>\n",
              "    </tr>\n",
              "    <tr>\n",
              "      <th>3</th>\n",
              "      <td>AM General</td>\n",
              "      <td>Post Office DJ8 2WD</td>\n",
              "      <td>1985</td>\n",
              "      <td>4.2</td>\n",
              "      <td>6.0</td>\n",
              "      <td>Automatic 3-spd</td>\n",
              "      <td>Rear-Wheel Drive</td>\n",
              "      <td>Special Purpose Vehicle 2WD</td>\n",
              "      <td>Regular</td>\n",
              "      <td>13</td>\n",
              "      <td>683.615385</td>\n",
              "      <td>Vehículos Especiales</td>\n",
              "      <td>dos</td>\n",
              "      <td>Automatica</td>\n",
              "      <td>Normal</td>\n",
              "      <td>grande</td>\n",
              "      <td>muy alto</td>\n",
              "      <td>muy alto</td>\n",
              "      <td>0.291185</td>\n",
              "    </tr>\n",
              "    <tr>\n",
              "      <th>4</th>\n",
              "      <td>ASC Incorporated</td>\n",
              "      <td>GNX</td>\n",
              "      <td>1987</td>\n",
              "      <td>3.8</td>\n",
              "      <td>6.0</td>\n",
              "      <td>Automatic 4-spd</td>\n",
              "      <td>Rear-Wheel Drive</td>\n",
              "      <td>Midsize Cars</td>\n",
              "      <td>Premium</td>\n",
              "      <td>16</td>\n",
              "      <td>555.437500</td>\n",
              "      <td>Coches Medianos</td>\n",
              "      <td>dos</td>\n",
              "      <td>Automatica</td>\n",
              "      <td>Premium</td>\n",
              "      <td>grande</td>\n",
              "      <td>alto</td>\n",
              "      <td>alto</td>\n",
              "      <td>0.236588</td>\n",
              "    </tr>\n",
              "  </tbody>\n",
              "</table>\n",
              "</div>\n",
              "    <div class=\"colab-df-buttons\">\n",
              "\n",
              "  <div class=\"colab-df-container\">\n",
              "    <button class=\"colab-df-convert\" onclick=\"convertToInteractive('df-e19a5fa5-d7d7-4509-a100-8ee883307599')\"\n",
              "            title=\"Convert this dataframe to an interactive table.\"\n",
              "            style=\"display:none;\">\n",
              "\n",
              "  <svg xmlns=\"http://www.w3.org/2000/svg\" height=\"24px\" viewBox=\"0 -960 960 960\">\n",
              "    <path d=\"M120-120v-720h720v720H120Zm60-500h600v-160H180v160Zm220 220h160v-160H400v160Zm0 220h160v-160H400v160ZM180-400h160v-160H180v160Zm440 0h160v-160H620v160ZM180-180h160v-160H180v160Zm440 0h160v-160H620v160Z\"/>\n",
              "  </svg>\n",
              "    </button>\n",
              "\n",
              "  <style>\n",
              "    .colab-df-container {\n",
              "      display:flex;\n",
              "      gap: 12px;\n",
              "    }\n",
              "\n",
              "    .colab-df-convert {\n",
              "      background-color: #E8F0FE;\n",
              "      border: none;\n",
              "      border-radius: 50%;\n",
              "      cursor: pointer;\n",
              "      display: none;\n",
              "      fill: #1967D2;\n",
              "      height: 32px;\n",
              "      padding: 0 0 0 0;\n",
              "      width: 32px;\n",
              "    }\n",
              "\n",
              "    .colab-df-convert:hover {\n",
              "      background-color: #E2EBFA;\n",
              "      box-shadow: 0px 1px 2px rgba(60, 64, 67, 0.3), 0px 1px 3px 1px rgba(60, 64, 67, 0.15);\n",
              "      fill: #174EA6;\n",
              "    }\n",
              "\n",
              "    .colab-df-buttons div {\n",
              "      margin-bottom: 4px;\n",
              "    }\n",
              "\n",
              "    [theme=dark] .colab-df-convert {\n",
              "      background-color: #3B4455;\n",
              "      fill: #D2E3FC;\n",
              "    }\n",
              "\n",
              "    [theme=dark] .colab-df-convert:hover {\n",
              "      background-color: #434B5C;\n",
              "      box-shadow: 0px 1px 3px 1px rgba(0, 0, 0, 0.15);\n",
              "      filter: drop-shadow(0px 1px 2px rgba(0, 0, 0, 0.3));\n",
              "      fill: #FFFFFF;\n",
              "    }\n",
              "  </style>\n",
              "\n",
              "    <script>\n",
              "      const buttonEl =\n",
              "        document.querySelector('#df-e19a5fa5-d7d7-4509-a100-8ee883307599 button.colab-df-convert');\n",
              "      buttonEl.style.display =\n",
              "        google.colab.kernel.accessAllowed ? 'block' : 'none';\n",
              "\n",
              "      async function convertToInteractive(key) {\n",
              "        const element = document.querySelector('#df-e19a5fa5-d7d7-4509-a100-8ee883307599');\n",
              "        const dataTable =\n",
              "          await google.colab.kernel.invokeFunction('convertToInteractive',\n",
              "                                                    [key], {});\n",
              "        if (!dataTable) return;\n",
              "\n",
              "        const docLinkHtml = 'Like what you see? Visit the ' +\n",
              "          '<a target=\"_blank\" href=https://colab.research.google.com/notebooks/data_table.ipynb>data table notebook</a>'\n",
              "          + ' to learn more about interactive tables.';\n",
              "        element.innerHTML = '';\n",
              "        dataTable['output_type'] = 'display_data';\n",
              "        await google.colab.output.renderOutput(dataTable, element);\n",
              "        const docLink = document.createElement('div');\n",
              "        docLink.innerHTML = docLinkHtml;\n",
              "        element.appendChild(docLink);\n",
              "      }\n",
              "    </script>\n",
              "  </div>\n",
              "\n",
              "\n",
              "    <div id=\"df-507dee51-5b06-470b-8ac7-505c24f09de3\">\n",
              "      <button class=\"colab-df-quickchart\" onclick=\"quickchart('df-507dee51-5b06-470b-8ac7-505c24f09de3')\"\n",
              "                title=\"Suggest charts\"\n",
              "                style=\"display:none;\">\n",
              "\n",
              "<svg xmlns=\"http://www.w3.org/2000/svg\" height=\"24px\"viewBox=\"0 0 24 24\"\n",
              "     width=\"24px\">\n",
              "    <g>\n",
              "        <path d=\"M19 3H5c-1.1 0-2 .9-2 2v14c0 1.1.9 2 2 2h14c1.1 0 2-.9 2-2V5c0-1.1-.9-2-2-2zM9 17H7v-7h2v7zm4 0h-2V7h2v10zm4 0h-2v-4h2v4z\"/>\n",
              "    </g>\n",
              "</svg>\n",
              "      </button>\n",
              "\n",
              "<style>\n",
              "  .colab-df-quickchart {\n",
              "      --bg-color: #E8F0FE;\n",
              "      --fill-color: #1967D2;\n",
              "      --hover-bg-color: #E2EBFA;\n",
              "      --hover-fill-color: #174EA6;\n",
              "      --disabled-fill-color: #AAA;\n",
              "      --disabled-bg-color: #DDD;\n",
              "  }\n",
              "\n",
              "  [theme=dark] .colab-df-quickchart {\n",
              "      --bg-color: #3B4455;\n",
              "      --fill-color: #D2E3FC;\n",
              "      --hover-bg-color: #434B5C;\n",
              "      --hover-fill-color: #FFFFFF;\n",
              "      --disabled-bg-color: #3B4455;\n",
              "      --disabled-fill-color: #666;\n",
              "  }\n",
              "\n",
              "  .colab-df-quickchart {\n",
              "    background-color: var(--bg-color);\n",
              "    border: none;\n",
              "    border-radius: 50%;\n",
              "    cursor: pointer;\n",
              "    display: none;\n",
              "    fill: var(--fill-color);\n",
              "    height: 32px;\n",
              "    padding: 0;\n",
              "    width: 32px;\n",
              "  }\n",
              "\n",
              "  .colab-df-quickchart:hover {\n",
              "    background-color: var(--hover-bg-color);\n",
              "    box-shadow: 0 1px 2px rgba(60, 64, 67, 0.3), 0 1px 3px 1px rgba(60, 64, 67, 0.15);\n",
              "    fill: var(--button-hover-fill-color);\n",
              "  }\n",
              "\n",
              "  .colab-df-quickchart-complete:disabled,\n",
              "  .colab-df-quickchart-complete:disabled:hover {\n",
              "    background-color: var(--disabled-bg-color);\n",
              "    fill: var(--disabled-fill-color);\n",
              "    box-shadow: none;\n",
              "  }\n",
              "\n",
              "  .colab-df-spinner {\n",
              "    border: 2px solid var(--fill-color);\n",
              "    border-color: transparent;\n",
              "    border-bottom-color: var(--fill-color);\n",
              "    animation:\n",
              "      spin 1s steps(1) infinite;\n",
              "  }\n",
              "\n",
              "  @keyframes spin {\n",
              "    0% {\n",
              "      border-color: transparent;\n",
              "      border-bottom-color: var(--fill-color);\n",
              "      border-left-color: var(--fill-color);\n",
              "    }\n",
              "    20% {\n",
              "      border-color: transparent;\n",
              "      border-left-color: var(--fill-color);\n",
              "      border-top-color: var(--fill-color);\n",
              "    }\n",
              "    30% {\n",
              "      border-color: transparent;\n",
              "      border-left-color: var(--fill-color);\n",
              "      border-top-color: var(--fill-color);\n",
              "      border-right-color: var(--fill-color);\n",
              "    }\n",
              "    40% {\n",
              "      border-color: transparent;\n",
              "      border-right-color: var(--fill-color);\n",
              "      border-top-color: var(--fill-color);\n",
              "    }\n",
              "    60% {\n",
              "      border-color: transparent;\n",
              "      border-right-color: var(--fill-color);\n",
              "    }\n",
              "    80% {\n",
              "      border-color: transparent;\n",
              "      border-right-color: var(--fill-color);\n",
              "      border-bottom-color: var(--fill-color);\n",
              "    }\n",
              "    90% {\n",
              "      border-color: transparent;\n",
              "      border-bottom-color: var(--fill-color);\n",
              "    }\n",
              "  }\n",
              "</style>\n",
              "\n",
              "      <script>\n",
              "        async function quickchart(key) {\n",
              "          const quickchartButtonEl =\n",
              "            document.querySelector('#' + key + ' button');\n",
              "          quickchartButtonEl.disabled = true;  // To prevent multiple clicks.\n",
              "          quickchartButtonEl.classList.add('colab-df-spinner');\n",
              "          try {\n",
              "            const charts = await google.colab.kernel.invokeFunction(\n",
              "                'suggestCharts', [key], {});\n",
              "          } catch (error) {\n",
              "            console.error('Error during call to suggestCharts:', error);\n",
              "          }\n",
              "          quickchartButtonEl.classList.remove('colab-df-spinner');\n",
              "          quickchartButtonEl.classList.add('colab-df-quickchart-complete');\n",
              "        }\n",
              "        (() => {\n",
              "          let quickchartButtonEl =\n",
              "            document.querySelector('#df-507dee51-5b06-470b-8ac7-505c24f09de3 button');\n",
              "          quickchartButtonEl.style.display =\n",
              "            google.colab.kernel.accessAllowed ? 'block' : 'none';\n",
              "        })();\n",
              "      </script>\n",
              "    </div>\n",
              "\n",
              "    </div>\n",
              "  </div>\n"
            ],
            "application/vnd.google.colaboratory.intrinsic+json": {
              "type": "dataframe",
              "variable_name": "df",
              "summary": "{\n  \"name\": \"df\",\n  \"rows\": 36791,\n  \"fields\": [\n    {\n      \"column\": \"fabricante\",\n      \"properties\": {\n        \"dtype\": \"category\",\n        \"num_unique_values\": 129,\n        \"samples\": [\n          \"JBA Motorcars, Inc.\",\n          \"General Motors\",\n          \"CX Automotive\"\n        ],\n        \"semantic_type\": \"\",\n        \"description\": \"\"\n      }\n    },\n    {\n      \"column\": \"modelo\",\n      \"properties\": {\n        \"dtype\": \"category\",\n        \"num_unique_values\": 3734,\n        \"samples\": [\n          \"900S\",\n          \"Ghost EWB\",\n          \"Xterra V6 2WD\"\n        ],\n        \"semantic_type\": \"\",\n        \"description\": \"\"\n      }\n    },\n    {\n      \"column\": \"year\",\n      \"properties\": {\n        \"dtype\": \"number\",\n        \"std\": 10,\n        \"min\": 1984,\n        \"max\": 2018,\n        \"num_unique_values\": 35,\n        \"samples\": [\n          2005,\n          2013,\n          1993\n        ],\n        \"semantic_type\": \"\",\n        \"description\": \"\"\n      }\n    },\n    {\n      \"column\": \"desplazamiento\",\n      \"properties\": {\n        \"dtype\": \"number\",\n        \"std\": 1.3599450676705929,\n        \"min\": 0.6,\n        \"max\": 8.4,\n        \"num_unique_values\": 65,\n        \"samples\": [\n          1.0,\n          8.4,\n          2.5\n        ],\n        \"semantic_type\": \"\",\n        \"description\": \"\"\n      }\n    },\n    {\n      \"column\": \"cilindros\",\n      \"properties\": {\n        \"dtype\": \"number\",\n        \"std\": 1.7580094305787626,\n        \"min\": 2.0,\n        \"max\": 16.0,\n        \"num_unique_values\": 9,\n        \"samples\": [\n          3.0,\n          6.0,\n          10.0\n        ],\n        \"semantic_type\": \"\",\n        \"description\": \"\"\n      }\n    },\n    {\n      \"column\": \"transmision\",\n      \"properties\": {\n        \"dtype\": \"category\",\n        \"num_unique_values\": 37,\n        \"samples\": [\n          \"Automatic 6-spd\",\n          \"Automatic (AM-S9)\",\n          \"Manual 6-spd\"\n        ],\n        \"semantic_type\": \"\",\n        \"description\": \"\"\n      }\n    },\n    {\n      \"column\": \"traccion\",\n      \"properties\": {\n        \"dtype\": \"category\",\n        \"num_unique_values\": 7,\n        \"samples\": [\n          \"2-Wheel Drive\",\n          \"Rear-Wheel Drive\",\n          \"4-Wheel Drive\"\n        ],\n        \"semantic_type\": \"\",\n        \"description\": \"\"\n      }\n    },\n    {\n      \"column\": \"clase\",\n      \"properties\": {\n        \"dtype\": \"category\",\n        \"num_unique_values\": 34,\n        \"samples\": [\n          \"Large Cars\",\n          \"Minivan - 2WD\",\n          \"Standard Pickup Trucks 4WD\"\n        ],\n        \"semantic_type\": \"\",\n        \"description\": \"\"\n      }\n    },\n    {\n      \"column\": \"combustible\",\n      \"properties\": {\n        \"dtype\": \"category\",\n        \"num_unique_values\": 13,\n        \"samples\": [\n          \"Regular Gas and Electricity\",\n          \"Regular Gas or Electricity\",\n          \"Regular\"\n        ],\n        \"semantic_type\": \"\",\n        \"description\": \"\"\n      }\n    },\n    {\n      \"column\": \"consumo\",\n      \"properties\": {\n        \"dtype\": \"number\",\n        \"std\": 5,\n        \"min\": 7,\n        \"max\": 58,\n        \"num_unique_values\": 49,\n        \"samples\": [\n          38,\n          50,\n          56\n        ],\n        \"semantic_type\": \"\",\n        \"description\": \"\"\n      }\n    },\n    {\n      \"column\": \"co2\",\n      \"properties\": {\n        \"dtype\": \"number\",\n        \"std\": 118.83390491053083,\n        \"min\": 29.0,\n        \"max\": 1269.571428571429,\n        \"num_unique_values\": 596,\n        \"samples\": [\n          403.0,\n          652.0,\n          112.0\n        ],\n        \"semantic_type\": \"\",\n        \"description\": \"\"\n      }\n    },\n    {\n      \"column\": \"clase_tipo\",\n      \"properties\": {\n        \"dtype\": \"category\",\n        \"num_unique_values\": 8,\n        \"samples\": [\n          \"Coches Medianos\",\n          \"Coches Grandes\",\n          \"Veh\\u00edculos Especiales\"\n        ],\n        \"semantic_type\": \"\",\n        \"description\": \"\"\n      }\n    },\n    {\n      \"column\": \"traccion_tipo\",\n      \"properties\": {\n        \"dtype\": \"category\",\n        \"num_unique_values\": 2,\n        \"samples\": [\n          \"cuatro\",\n          \"dos\"\n        ],\n        \"semantic_type\": \"\",\n        \"description\": \"\"\n      }\n    },\n    {\n      \"column\": \"transmision_tipo\",\n      \"properties\": {\n        \"dtype\": \"category\",\n        \"num_unique_values\": 2,\n        \"samples\": [\n          \"Manual\",\n          \"Automatica\"\n        ],\n        \"semantic_type\": \"\",\n        \"description\": \"\"\n      }\n    },\n    {\n      \"column\": \"combustible_tipo\",\n      \"properties\": {\n        \"dtype\": \"category\",\n        \"num_unique_values\": 4,\n        \"samples\": [\n          \"Premium\",\n          \"Hibrido\"\n        ],\n        \"semantic_type\": \"\",\n        \"description\": \"\"\n      }\n    },\n    {\n      \"column\": \"tamano_motor_tipo\",\n      \"properties\": {\n        \"dtype\": \"category\",\n        \"num_unique_values\": 5,\n        \"samples\": [\n          \"grande\",\n          \"muy grande\"\n        ],\n        \"semantic_type\": \"\",\n        \"description\": \"\"\n      }\n    },\n    {\n      \"column\": \"consumo_tipo\",\n      \"properties\": {\n        \"dtype\": \"category\",\n        \"num_unique_values\": 5,\n        \"samples\": [\n          \"muy alto\",\n          \"moderado\"\n        ],\n        \"semantic_type\": \"\",\n        \"description\": \"\"\n      }\n    },\n    {\n      \"column\": \"co2_tipo\",\n      \"properties\": {\n        \"dtype\": \"category\",\n        \"num_unique_values\": 5,\n        \"samples\": [\n          \"muy alto\",\n          \"moderado\"\n        ],\n        \"semantic_type\": \"\",\n        \"description\": \"\"\n      }\n    },\n    {\n      \"column\": \"consumo_litros_milla\",\n      \"properties\": {\n        \"dtype\": \"number\",\n        \"std\": 0.0504909968829759,\n        \"min\": 0.0652656896551724,\n        \"max\": 0.5407728571428572,\n        \"num_unique_values\": 49,\n        \"samples\": [\n          0.0996160526315789,\n          0.0757082\n        ],\n        \"semantic_type\": \"\",\n        \"description\": \"\"\n      }\n    }\n  ]\n}"
            }
          },
          "metadata": {},
          "execution_count": 4
        }
      ]
    },
    {
      "cell_type": "code",
      "source": [
        "#Tratamiento de datos faltantes\n",
        "\n",
        "# Separar variables numéricas y categóricas\n",
        "num_cols = df.select_dtypes(include=np.number).columns\n",
        "cat_cols = df.select_dtypes(include='object').columns\n",
        "\n",
        "# Imputar numéricas con media\n",
        "imputer_num = SimpleImputer(strategy='mean')\n",
        "df[num_cols] = imputer_num.fit_transform(df[num_cols])\n",
        "\n",
        "# Imputar categóricas con moda\n",
        "imputer_cat = SimpleImputer(strategy='most_frequent')\n",
        "df[cat_cols] = imputer_cat.fit_transform(df[cat_cols])\n"
      ],
      "metadata": {
        "id": "rKwFJhRQOkgd"
      },
      "execution_count": null,
      "outputs": []
    },
    {
      "cell_type": "code",
      "source": [
        "#Tratamiento de outliers univariado usando IQR\n",
        "def remove_outliers_iqr(df, columns):\n",
        "    for col in columns:\n",
        "        Q1 = df[col].quantile(0.25)\n",
        "        Q3 = df[col].quantile(0.75)\n",
        "        IQR = Q3 - Q1\n",
        "        lower = Q1 - 1.5 * IQR\n",
        "        upper = Q3 + 1.5 * IQR\n",
        "        df = df[(df[col] >= lower) & (df[col] <= upper)]\n",
        "    return df\n",
        "\n",
        "df = remove_outliers_iqr(df, num_cols)\n"
      ],
      "metadata": {
        "id": "C_EbQRb_OxiN"
      },
      "execution_count": null,
      "outputs": []
    },
    {
      "cell_type": "code",
      "source": [
        "#Tratamiento de outliers multivariado con Z-score\n",
        "z_scores = np.abs(stats.zscore(df[num_cols]))\n",
        "df = df[(z_scores < 3).all(axis=1)]\n"
      ],
      "metadata": {
        "id": "-B7940cbOz68"
      },
      "execution_count": null,
      "outputs": []
    },
    {
      "cell_type": "code",
      "source": [
        "#Escalamiento de datos numéricos\n",
        "scaler = StandardScaler()\n",
        "df_scaled = pd.DataFrame(scaler.fit_transform(df[num_cols]), columns=num_cols)\n"
      ],
      "metadata": {
        "id": "KDudn7pgO1Wk"
      },
      "execution_count": null,
      "outputs": []
    },
    {
      "cell_type": "code",
      "source": [
        "#Dumificación de variables categóricas\n",
        "df_dummies = pd.get_dummies(df[cat_cols], drop_first=True)\n"
      ],
      "metadata": {
        "id": "GsIdPTn8O_W8"
      },
      "execution_count": null,
      "outputs": []
    },
    {
      "cell_type": "code",
      "source": [
        "#Eliminación de columnas indicadas\n",
        "cols_to_drop = ['fabricante', 'modelo', 'transmision', 'traccion', 'clase', 'combustible', 'consumo']\n",
        "df = df.drop(columns=cols_to_drop, errors='ignore')\n"
      ],
      "metadata": {
        "id": "k6amPDnoPC31"
      },
      "execution_count": null,
      "outputs": []
    },
    {
      "cell_type": "markdown",
      "source": [
        "### Determinación de la cantidad de clusters con el método del codo\n"
      ],
      "metadata": {
        "id": "MPNM-UeMs97p"
      }
    },
    {
      "cell_type": "markdown",
      "source": [
        "### b.\tAplique un análisis de conglomerados no jerárquico por medio del método k-means y utilice el método del codo para determinar la cantidad de clusters adecuados. Compare los conglomerados formados y comente sobre las características que definen a estos."
      ],
      "metadata": {
        "id": "pxp6--YKPIbd"
      }
    },
    {
      "cell_type": "code",
      "source": [
        "#Unir variables numéricas escaladas y categóricas dummificadas\n",
        "X = pd.concat([df_scaled.reset_index(drop=True), df_dummies.reset_index(drop=True)], axis=1)\n"
      ],
      "metadata": {
        "id": "H4eS-clhPQCk"
      },
      "execution_count": null,
      "outputs": []
    },
    {
      "cell_type": "code",
      "source": [
        "#Método del codo para determinar número óptimo de clusters\n",
        "inertia = []\n",
        "K = range(1, 11)\n",
        "\n",
        "for k in K:\n",
        "    kmeans = KMeans(n_clusters=k, random_state=42)\n",
        "    kmeans.fit(X)\n",
        "    inertia.append(kmeans.inertia_)\n",
        "\n",
        "plt.figure(figsize=(8, 4))\n",
        "plt.plot(K, inertia, 'bo-')\n",
        "plt.xlabel('Número de clusters')\n",
        "plt.ylabel('Inercia')\n",
        "plt.title('Método del Codo')\n",
        "plt.grid(True)\n",
        "plt.show()\n"
      ],
      "metadata": {
        "id": "aVR2fUxoPVbk"
      },
      "execution_count": null,
      "outputs": []
    },
    {
      "cell_type": "code",
      "source": [
        "#Aplicación de K-means con número óptimo de clusters (ajusta según el gráfico)\n",
        "k_opt = 3  # reemplaza este valor si el codo sugiere otro\n",
        "kmeans = KMeans(n_clusters=k_opt, random_state=42)\n",
        "df['cluster'] = kmeans.fit_predict(X)\n"
      ],
      "metadata": {
        "id": "FTRf5XfQPXrF"
      },
      "execution_count": null,
      "outputs": []
    },
    {
      "cell_type": "code",
      "source": [
        "#Visualización de distribución de clusters\n",
        "df['cluster'].value_counts().sort_index()\n"
      ],
      "metadata": {
        "colab": {
          "base_uri": "https://localhost:8080/",
          "height": 209
        },
        "id": "DYOCXT0MPZqV",
        "outputId": "034bda3f-1928-4522-8b4c-d992540afbd4"
      },
      "execution_count": null,
      "outputs": [
        {
          "output_type": "execute_result",
          "data": {
            "text/plain": [
              "cluster\n",
              "0     9012\n",
              "1    11481\n",
              "2    13632\n",
              "Name: count, dtype: int64"
            ],
            "text/html": [
              "<div>\n",
              "<style scoped>\n",
              "    .dataframe tbody tr th:only-of-type {\n",
              "        vertical-align: middle;\n",
              "    }\n",
              "\n",
              "    .dataframe tbody tr th {\n",
              "        vertical-align: top;\n",
              "    }\n",
              "\n",
              "    .dataframe thead th {\n",
              "        text-align: right;\n",
              "    }\n",
              "</style>\n",
              "<table border=\"1\" class=\"dataframe\">\n",
              "  <thead>\n",
              "    <tr style=\"text-align: right;\">\n",
              "      <th></th>\n",
              "      <th>count</th>\n",
              "    </tr>\n",
              "    <tr>\n",
              "      <th>cluster</th>\n",
              "      <th></th>\n",
              "    </tr>\n",
              "  </thead>\n",
              "  <tbody>\n",
              "    <tr>\n",
              "      <th>0</th>\n",
              "      <td>9012</td>\n",
              "    </tr>\n",
              "    <tr>\n",
              "      <th>1</th>\n",
              "      <td>11481</td>\n",
              "    </tr>\n",
              "    <tr>\n",
              "      <th>2</th>\n",
              "      <td>13632</td>\n",
              "    </tr>\n",
              "  </tbody>\n",
              "</table>\n",
              "</div><br><label><b>dtype:</b> int64</label>"
            ]
          },
          "metadata": {},
          "execution_count": 14
        }
      ]
    },
    {
      "cell_type": "markdown",
      "source": [
        "### c.\tCalcule las principales medidas de evaluación interna e interprete los resultados obtenidos. También, calcule las principales medidas de evaluación externa tomando una cantidad de clusters de 8 y de referencia a la variable ‘clase_tipo’."
      ],
      "metadata": {
        "id": "GYNiOhwxQKqd"
      }
    },
    {
      "cell_type": "markdown",
      "source": [
        "# Evaluación interna (Silhouette)\n"
      ],
      "metadata": {
        "id": "CnMOLR-ltLyv"
      }
    },
    {
      "cell_type": "code",
      "source": [
        "#Evaluación interna: Silhouette Score\n",
        "sil_score = silhouette_score(X, df['cluster'])\n",
        "print(f\"Silhouette Score: {sil_score:.3f}\")\n"
      ],
      "metadata": {
        "id": "OPo0bsHnQRSl"
      },
      "execution_count": null,
      "outputs": []
    },
    {
      "cell_type": "code",
      "source": [
        "#Evaluación externa con 8 clusters y comparación con 'clase_tipo'\n",
        "kmeans_8 = KMeans(n_clusters=8, random_state=42)\n",
        "df['cluster_8'] = kmeans_8.fit_predict(X)\n",
        "\n",
        "# Verifica que exista la columna 'clase_tipo'\n",
        "if 'clase_tipo' in df.columns:\n",
        "    ari = adjusted_rand_score(df['clase_tipo'], df['cluster_8'])\n",
        "    nmi = normalized_mutual_info_score(df['clase_tipo'], df['cluster_8'])\n",
        "\n",
        "    print(f\"Adjusted Rand Index (ARI): {ari:.3f}\")\n",
        "    print(f\"Normalized Mutual Information (NMI): {nmi:.3f}\")\n",
        "else:\n",
        "    print(\"La columna 'clase_tipo' no está en el DataFrame. Verifica su nombre.\")\n"
      ],
      "metadata": {
        "colab": {
          "base_uri": "https://localhost:8080/"
        },
        "id": "xDrvvPuMQUYs",
        "outputId": "aa80727d-89e5-422e-bd91-81867516cb33"
      },
      "execution_count": 16,
      "outputs": [
        {
          "output_type": "stream",
          "name": "stdout",
          "text": [
            "Adjusted Rand Index (ARI): 0.065\n",
            "Normalized Mutual Information (NMI): 0.144\n"
          ]
        }
      ]
    }
  ]
}